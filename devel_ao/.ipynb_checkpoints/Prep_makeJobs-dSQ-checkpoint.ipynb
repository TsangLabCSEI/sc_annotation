{
 "cells": [
  {
   "cell_type": "markdown",
   "id": "5f0aa893-ce6d-49f8-924b-08c816f2dbe1",
   "metadata": {},
   "source": [
    "Here ready the scripts for parallel running across conditions"
   ]
  },
  {
   "cell_type": "code",
   "execution_count": 14,
   "id": "f037ebe7-ef29-4f57-80ce-3b153fb94173",
   "metadata": {},
   "outputs": [
    {
     "data": {
      "text/html": [
       "<table class=\"dataframe\">\n",
       "<caption>A matrix: 2 × 6 of type chr</caption>\n",
       "<tbody>\n",
       "\t<tr><td>Batch1</td><td>Batch1</td><td>Batch2</td><td>Batch2</td><td>Batch3</td><td>Batch3</td></tr>\n",
       "\t<tr><td>Batch2</td><td>Batch3</td><td>Batch3</td><td>Batch1</td><td>Batch1</td><td>Batch2</td></tr>\n",
       "</tbody>\n",
       "</table>\n"
      ],
      "text/latex": [
       "A matrix: 2 × 6 of type chr\n",
       "\\begin{tabular}{llllll}\n",
       "\t Batch1 & Batch1 & Batch2 & Batch2 & Batch3 & Batch3\\\\\n",
       "\t Batch2 & Batch3 & Batch3 & Batch1 & Batch1 & Batch2\\\\\n",
       "\\end{tabular}\n"
      ],
      "text/markdown": [
       "\n",
       "A matrix: 2 × 6 of type chr\n",
       "\n",
       "| Batch1 | Batch1 | Batch2 | Batch2 | Batch3 | Batch3 |\n",
       "| Batch2 | Batch3 | Batch3 | Batch1 | Batch1 | Batch2 |\n",
       "\n"
      ],
      "text/plain": [
       "     [,1]   [,2]   [,3]   [,4]   [,5]   [,6]  \n",
       "[1,] Batch1 Batch1 Batch2 Batch2 Batch3 Batch3\n",
       "[2,] Batch2 Batch3 Batch3 Batch1 Batch1 Batch2"
      ]
     },
     "metadata": {},
     "output_type": "display_data"
    }
   ],
   "source": [
    "### ready the meta script for cross-batch prediction - covid_flu\n",
    "\n",
    "# specify this experiment\n",
    "DIR = '/home/ah2426/tsang_project/sc_annotation'\n",
    "DATA = 'covid_flu'\n",
    "\n",
    "# items to interate over\n",
    "BATCH = c('Batch1', 'Batch2', 'Batch3')\n",
    "DATATYPE = c('expr', 'rank')\n",
    "\n",
    "BATCH_COMB = combn(BATCH, 2)\n",
    "BATCH_COMB = cbind(BATCH_COMB, BATCH_COMB[c(2,1), ])\n",
    "BATCH_COMB\n",
    "\n",
    "store = rep(\"\", 6*2)\n",
    "idx=0\n",
    "\n",
    "for (j in 1:6) {\n",
    "\n",
    "    for (datatype in DATATYPE) {\n",
    "\n",
    "        idx = idx + 1\n",
    "\n",
    "        TRAIN_DIR = paste0(DIR,'/data/',DATA,'.cite.',BATCH_COMB[1,j],'.dsb.RDS')\n",
    "        TEST_DIR  = paste0(DIR,'/data/',DATA,'.cite.',BATCH_COMB[2,j],'.dsb.RDS')\n",
    "        SAVE_DIR  = paste0(DIR,'/devel_ao/models/crossbatch_',DATA)\n",
    "        \n",
    "        store[idx] = paste(\"module load miniconda; conda init bash; source activate r4.2; Rscript\",\n",
    "                           paste0(DIR,'/devel_ao/main.R'),\n",
    "                           TRAIN_DIR,\n",
    "                           TEST_DIR,\n",
    "                           SAVE_DIR,\n",
    "                           datatype)\n",
    "        \n",
    "    }\n",
    "\n",
    "}\n",
    "\n",
    "filepath = file(paste0(DIR, '/devel_ao/', DATA, '_crossbatch_joblist_dSQ.txt'))\n",
    "writeLines(store, filepath)"
   ]
  },
  {
   "cell_type": "code",
   "execution_count": null,
   "id": "b34d4f1a-22f8-41d2-8c28-5f6e9509b7ba",
   "metadata": {},
   "outputs": [],
   "source": []
  }
 ],
 "metadata": {
  "kernelspec": {
   "display_name": "R",
   "language": "R",
   "name": "ir"
  },
  "language_info": {
   "codemirror_mode": "r",
   "file_extension": ".r",
   "mimetype": "text/x-r-source",
   "name": "R",
   "pygments_lexer": "r",
   "version": "4.2.3"
  }
 },
 "nbformat": 4,
 "nbformat_minor": 5
}
