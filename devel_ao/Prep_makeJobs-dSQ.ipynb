{
 "cells": [
  {
   "cell_type": "markdown",
   "id": "5f0aa893-ce6d-49f8-924b-08c816f2dbe1",
   "metadata": {},
   "source": [
    "Here ready the scripts for parallel running across conditions"
   ]
  },
  {
   "cell_type": "code",
   "execution_count": 14,
   "id": "f037ebe7-ef29-4f57-80ce-3b153fb94173",
   "metadata": {},
   "outputs": [
    {
     "data": {
      "text/html": [
       "<table class=\"dataframe\">\n",
       "<caption>A matrix: 2 × 6 of type chr</caption>\n",
       "<tbody>\n",
       "\t<tr><td>Batch1</td><td>Batch1</td><td>Batch2</td><td>Batch2</td><td>Batch3</td><td>Batch3</td></tr>\n",
       "\t<tr><td>Batch2</td><td>Batch3</td><td>Batch3</td><td>Batch1</td><td>Batch1</td><td>Batch2</td></tr>\n",
       "</tbody>\n",
       "</table>\n"
      ],
      "text/latex": [
       "A matrix: 2 × 6 of type chr\n",
       "\\begin{tabular}{llllll}\n",
       "\t Batch1 & Batch1 & Batch2 & Batch2 & Batch3 & Batch3\\\\\n",
       "\t Batch2 & Batch3 & Batch3 & Batch1 & Batch1 & Batch2\\\\\n",
       "\\end{tabular}\n"
      ],
      "text/markdown": [
       "\n",
       "A matrix: 2 × 6 of type chr\n",
       "\n",
       "| Batch1 | Batch1 | Batch2 | Batch2 | Batch3 | Batch3 |\n",
       "| Batch2 | Batch3 | Batch3 | Batch1 | Batch1 | Batch2 |\n",
       "\n"
      ],
      "text/plain": [
       "     [,1]   [,2]   [,3]   [,4]   [,5]   [,6]  \n",
       "[1,] Batch1 Batch1 Batch2 Batch2 Batch3 Batch3\n",
       "[2,] Batch2 Batch3 Batch3 Batch1 Batch1 Batch2"
      ]
     },
     "metadata": {},
     "output_type": "display_data"
    }
   ],
   "source": [
    "### ready the meta script for cross-batch prediction - covid_flu\n",
    "\n",
    "# specify this experiment\n",
    "DIR = '/home/ah2426/tsang_project/sc_annotation'\n",
    "DATA = 'covid_flu'\n",
    "\n",
    "# items to interate over\n",
    "BATCH = c('Batch1', 'Batch2', 'Batch3')\n",
    "DATATYPE = c('expr', 'rank')\n",
    "\n",
    "BATCH_COMB = combn(BATCH, 2)\n",
    "BATCH_COMB = cbind(BATCH_COMB, BATCH_COMB[c(2,1), ])\n",
    "BATCH_COMB\n",
    "\n",
    "store = rep(\"\", 6*2)\n",
    "idx=0\n",
    "\n",
    "for (j in 1:6) {\n",
    "\n",
    "    for (datatype in DATATYPE) {\n",
    "\n",
    "        idx = idx + 1\n",
    "\n",
    "        TRAIN_DIR = paste0(DIR,'/data/',DATA,'.cite.',BATCH_COMB[1,j],'.dsb.RDS')\n",
    "        TEST_DIR  = paste0(DIR,'/data/',DATA,'.cite.',BATCH_COMB[2,j],'.dsb.RDS')\n",
    "        SAVE_DIR  = paste0(DIR,'/devel_ao/models/crossbatch_',DATA)\n",
    "        \n",
    "        store[idx] = paste(\"module load miniconda; conda init bash; source activate r4.2; Rscript\",\n",
    "                           paste0(DIR,'/devel_ao/main.R'),\n",
    "                           TRAIN_DIR,\n",
    "                           TEST_DIR,\n",
    "                           SAVE_DIR,\n",
    "                           datatype)\n",
    "        \n",
    "    }\n",
    "\n",
    "}\n",
    "\n",
    "filepath = file(paste0(DIR, '/devel_ao/', DATA, '_crossbatch_joblist_dSQ.txt'))\n",
    "writeLines(store, filepath)"
   ]
  },
  {
   "cell_type": "code",
   "execution_count": 15,
   "id": "b34d4f1a-22f8-41d2-8c28-5f6e9509b7ba",
   "metadata": {},
   "outputs": [
    {
     "data": {
      "text/html": [
       "'module load miniconda; conda init bash; source activate r4.2; Rscript /home/ah2426/tsang_project/sc_annotation/devel_ao/main.R /home/ah2426/tsang_project/sc_annotation/data/covid_flu.cite.Batch1.dsb.RDS /home/ah2426/tsang_project/sc_annotation/data/covid_flu.cite.Batch2.dsb.RDS /home/ah2426/tsang_project/sc_annotation/devel_ao/models/crossbatch_covid_flu expr'"
      ],
      "text/latex": [
       "'module load miniconda; conda init bash; source activate r4.2; Rscript /home/ah2426/tsang\\_project/sc\\_annotation/devel\\_ao/main.R /home/ah2426/tsang\\_project/sc\\_annotation/data/covid\\_flu.cite.Batch1.dsb.RDS /home/ah2426/tsang\\_project/sc\\_annotation/data/covid\\_flu.cite.Batch2.dsb.RDS /home/ah2426/tsang\\_project/sc\\_annotation/devel\\_ao/models/crossbatch\\_covid\\_flu expr'"
      ],
      "text/markdown": [
       "'module load miniconda; conda init bash; source activate r4.2; Rscript /home/ah2426/tsang_project/sc_annotation/devel_ao/main.R /home/ah2426/tsang_project/sc_annotation/data/covid_flu.cite.Batch1.dsb.RDS /home/ah2426/tsang_project/sc_annotation/data/covid_flu.cite.Batch2.dsb.RDS /home/ah2426/tsang_project/sc_annotation/devel_ao/models/crossbatch_covid_flu expr'"
      ],
      "text/plain": [
       "[1] \"module load miniconda; conda init bash; source activate r4.2; Rscript /home/ah2426/tsang_project/sc_annotation/devel_ao/main.R /home/ah2426/tsang_project/sc_annotation/data/covid_flu.cite.Batch1.dsb.RDS /home/ah2426/tsang_project/sc_annotation/data/covid_flu.cite.Batch2.dsb.RDS /home/ah2426/tsang_project/sc_annotation/devel_ao/models/crossbatch_covid_flu expr\""
      ]
     },
     "metadata": {},
     "output_type": "display_data"
    }
   ],
   "source": [
    "store[1]"
   ]
  },
  {
   "cell_type": "code",
   "execution_count": 20,
   "id": "c564c040-b7c8-40c6-a23e-e7629f6524cc",
   "metadata": {},
   "outputs": [
    {
     "data": {
      "text/html": [
       "<table class=\"dataframe\">\n",
       "<caption>A matrix: 12 × 15 of type chr</caption>\n",
       "<tbody>\n",
       "\t<tr><td>module</td><td>load</td><td>miniconda;</td><td>conda</td><td>init</td><td>bash;</td><td>source</td><td>activate</td><td>r4.2;</td><td>Rscript</td><td>/home/ah2426/tsang_project/sc_annotation/devel_ao/main.R</td><td>/home/ah2426/tsang_project/sc_annotation/data/covid_flu.cite.Batch1.dsb.RDS</td><td>/home/ah2426/tsang_project/sc_annotation/data/covid_flu.cite.Batch2.dsb.RDS</td><td>/home/ah2426/tsang_project/sc_annotation/devel_ao/models/crossbatch_covid_flu</td><td>expr</td></tr>\n",
       "\t<tr><td>module</td><td>load</td><td>miniconda;</td><td>conda</td><td>init</td><td>bash;</td><td>source</td><td>activate</td><td>r4.2;</td><td>Rscript</td><td>/home/ah2426/tsang_project/sc_annotation/devel_ao/main.R</td><td>/home/ah2426/tsang_project/sc_annotation/data/covid_flu.cite.Batch1.dsb.RDS</td><td>/home/ah2426/tsang_project/sc_annotation/data/covid_flu.cite.Batch2.dsb.RDS</td><td>/home/ah2426/tsang_project/sc_annotation/devel_ao/models/crossbatch_covid_flu</td><td>rank</td></tr>\n",
       "\t<tr><td>module</td><td>load</td><td>miniconda;</td><td>conda</td><td>init</td><td>bash;</td><td>source</td><td>activate</td><td>r4.2;</td><td>Rscript</td><td>/home/ah2426/tsang_project/sc_annotation/devel_ao/main.R</td><td>/home/ah2426/tsang_project/sc_annotation/data/covid_flu.cite.Batch1.dsb.RDS</td><td>/home/ah2426/tsang_project/sc_annotation/data/covid_flu.cite.Batch3.dsb.RDS</td><td>/home/ah2426/tsang_project/sc_annotation/devel_ao/models/crossbatch_covid_flu</td><td>expr</td></tr>\n",
       "\t<tr><td>module</td><td>load</td><td>miniconda;</td><td>conda</td><td>init</td><td>bash;</td><td>source</td><td>activate</td><td>r4.2;</td><td>Rscript</td><td>/home/ah2426/tsang_project/sc_annotation/devel_ao/main.R</td><td>/home/ah2426/tsang_project/sc_annotation/data/covid_flu.cite.Batch1.dsb.RDS</td><td>/home/ah2426/tsang_project/sc_annotation/data/covid_flu.cite.Batch3.dsb.RDS</td><td>/home/ah2426/tsang_project/sc_annotation/devel_ao/models/crossbatch_covid_flu</td><td>rank</td></tr>\n",
       "\t<tr><td>module</td><td>load</td><td>miniconda;</td><td>conda</td><td>init</td><td>bash;</td><td>source</td><td>activate</td><td>r4.2;</td><td>Rscript</td><td>/home/ah2426/tsang_project/sc_annotation/devel_ao/main.R</td><td>/home/ah2426/tsang_project/sc_annotation/data/covid_flu.cite.Batch2.dsb.RDS</td><td>/home/ah2426/tsang_project/sc_annotation/data/covid_flu.cite.Batch3.dsb.RDS</td><td>/home/ah2426/tsang_project/sc_annotation/devel_ao/models/crossbatch_covid_flu</td><td>expr</td></tr>\n",
       "\t<tr><td>module</td><td>load</td><td>miniconda;</td><td>conda</td><td>init</td><td>bash;</td><td>source</td><td>activate</td><td>r4.2;</td><td>Rscript</td><td>/home/ah2426/tsang_project/sc_annotation/devel_ao/main.R</td><td>/home/ah2426/tsang_project/sc_annotation/data/covid_flu.cite.Batch2.dsb.RDS</td><td>/home/ah2426/tsang_project/sc_annotation/data/covid_flu.cite.Batch3.dsb.RDS</td><td>/home/ah2426/tsang_project/sc_annotation/devel_ao/models/crossbatch_covid_flu</td><td>rank</td></tr>\n",
       "\t<tr><td>module</td><td>load</td><td>miniconda;</td><td>conda</td><td>init</td><td>bash;</td><td>source</td><td>activate</td><td>r4.2;</td><td>Rscript</td><td>/home/ah2426/tsang_project/sc_annotation/devel_ao/main.R</td><td>/home/ah2426/tsang_project/sc_annotation/data/covid_flu.cite.Batch2.dsb.RDS</td><td>/home/ah2426/tsang_project/sc_annotation/data/covid_flu.cite.Batch1.dsb.RDS</td><td>/home/ah2426/tsang_project/sc_annotation/devel_ao/models/crossbatch_covid_flu</td><td>expr</td></tr>\n",
       "\t<tr><td>module</td><td>load</td><td>miniconda;</td><td>conda</td><td>init</td><td>bash;</td><td>source</td><td>activate</td><td>r4.2;</td><td>Rscript</td><td>/home/ah2426/tsang_project/sc_annotation/devel_ao/main.R</td><td>/home/ah2426/tsang_project/sc_annotation/data/covid_flu.cite.Batch2.dsb.RDS</td><td>/home/ah2426/tsang_project/sc_annotation/data/covid_flu.cite.Batch1.dsb.RDS</td><td>/home/ah2426/tsang_project/sc_annotation/devel_ao/models/crossbatch_covid_flu</td><td>rank</td></tr>\n",
       "\t<tr><td>module</td><td>load</td><td>miniconda;</td><td>conda</td><td>init</td><td>bash;</td><td>source</td><td>activate</td><td>r4.2;</td><td>Rscript</td><td>/home/ah2426/tsang_project/sc_annotation/devel_ao/main.R</td><td>/home/ah2426/tsang_project/sc_annotation/data/covid_flu.cite.Batch3.dsb.RDS</td><td>/home/ah2426/tsang_project/sc_annotation/data/covid_flu.cite.Batch1.dsb.RDS</td><td>/home/ah2426/tsang_project/sc_annotation/devel_ao/models/crossbatch_covid_flu</td><td>expr</td></tr>\n",
       "\t<tr><td>module</td><td>load</td><td>miniconda;</td><td>conda</td><td>init</td><td>bash;</td><td>source</td><td>activate</td><td>r4.2;</td><td>Rscript</td><td>/home/ah2426/tsang_project/sc_annotation/devel_ao/main.R</td><td>/home/ah2426/tsang_project/sc_annotation/data/covid_flu.cite.Batch3.dsb.RDS</td><td>/home/ah2426/tsang_project/sc_annotation/data/covid_flu.cite.Batch1.dsb.RDS</td><td>/home/ah2426/tsang_project/sc_annotation/devel_ao/models/crossbatch_covid_flu</td><td>rank</td></tr>\n",
       "\t<tr><td>module</td><td>load</td><td>miniconda;</td><td>conda</td><td>init</td><td>bash;</td><td>source</td><td>activate</td><td>r4.2;</td><td>Rscript</td><td>/home/ah2426/tsang_project/sc_annotation/devel_ao/main.R</td><td>/home/ah2426/tsang_project/sc_annotation/data/covid_flu.cite.Batch3.dsb.RDS</td><td>/home/ah2426/tsang_project/sc_annotation/data/covid_flu.cite.Batch2.dsb.RDS</td><td>/home/ah2426/tsang_project/sc_annotation/devel_ao/models/crossbatch_covid_flu</td><td>expr</td></tr>\n",
       "\t<tr><td>module</td><td>load</td><td>miniconda;</td><td>conda</td><td>init</td><td>bash;</td><td>source</td><td>activate</td><td>r4.2;</td><td>Rscript</td><td>/home/ah2426/tsang_project/sc_annotation/devel_ao/main.R</td><td>/home/ah2426/tsang_project/sc_annotation/data/covid_flu.cite.Batch3.dsb.RDS</td><td>/home/ah2426/tsang_project/sc_annotation/data/covid_flu.cite.Batch2.dsb.RDS</td><td>/home/ah2426/tsang_project/sc_annotation/devel_ao/models/crossbatch_covid_flu</td><td>rank</td></tr>\n",
       "</tbody>\n",
       "</table>\n"
      ],
      "text/latex": [
       "A matrix: 12 × 15 of type chr\n",
       "\\begin{tabular}{lllllllllllllll}\n",
       "\t module & load & miniconda; & conda & init & bash; & source & activate & r4.2; & Rscript & /home/ah2426/tsang\\_project/sc\\_annotation/devel\\_ao/main.R & /home/ah2426/tsang\\_project/sc\\_annotation/data/covid\\_flu.cite.Batch1.dsb.RDS & /home/ah2426/tsang\\_project/sc\\_annotation/data/covid\\_flu.cite.Batch2.dsb.RDS & /home/ah2426/tsang\\_project/sc\\_annotation/devel\\_ao/models/crossbatch\\_covid\\_flu & expr\\\\\n",
       "\t module & load & miniconda; & conda & init & bash; & source & activate & r4.2; & Rscript & /home/ah2426/tsang\\_project/sc\\_annotation/devel\\_ao/main.R & /home/ah2426/tsang\\_project/sc\\_annotation/data/covid\\_flu.cite.Batch1.dsb.RDS & /home/ah2426/tsang\\_project/sc\\_annotation/data/covid\\_flu.cite.Batch2.dsb.RDS & /home/ah2426/tsang\\_project/sc\\_annotation/devel\\_ao/models/crossbatch\\_covid\\_flu & rank\\\\\n",
       "\t module & load & miniconda; & conda & init & bash; & source & activate & r4.2; & Rscript & /home/ah2426/tsang\\_project/sc\\_annotation/devel\\_ao/main.R & /home/ah2426/tsang\\_project/sc\\_annotation/data/covid\\_flu.cite.Batch1.dsb.RDS & /home/ah2426/tsang\\_project/sc\\_annotation/data/covid\\_flu.cite.Batch3.dsb.RDS & /home/ah2426/tsang\\_project/sc\\_annotation/devel\\_ao/models/crossbatch\\_covid\\_flu & expr\\\\\n",
       "\t module & load & miniconda; & conda & init & bash; & source & activate & r4.2; & Rscript & /home/ah2426/tsang\\_project/sc\\_annotation/devel\\_ao/main.R & /home/ah2426/tsang\\_project/sc\\_annotation/data/covid\\_flu.cite.Batch1.dsb.RDS & /home/ah2426/tsang\\_project/sc\\_annotation/data/covid\\_flu.cite.Batch3.dsb.RDS & /home/ah2426/tsang\\_project/sc\\_annotation/devel\\_ao/models/crossbatch\\_covid\\_flu & rank\\\\\n",
       "\t module & load & miniconda; & conda & init & bash; & source & activate & r4.2; & Rscript & /home/ah2426/tsang\\_project/sc\\_annotation/devel\\_ao/main.R & /home/ah2426/tsang\\_project/sc\\_annotation/data/covid\\_flu.cite.Batch2.dsb.RDS & /home/ah2426/tsang\\_project/sc\\_annotation/data/covid\\_flu.cite.Batch3.dsb.RDS & /home/ah2426/tsang\\_project/sc\\_annotation/devel\\_ao/models/crossbatch\\_covid\\_flu & expr\\\\\n",
       "\t module & load & miniconda; & conda & init & bash; & source & activate & r4.2; & Rscript & /home/ah2426/tsang\\_project/sc\\_annotation/devel\\_ao/main.R & /home/ah2426/tsang\\_project/sc\\_annotation/data/covid\\_flu.cite.Batch2.dsb.RDS & /home/ah2426/tsang\\_project/sc\\_annotation/data/covid\\_flu.cite.Batch3.dsb.RDS & /home/ah2426/tsang\\_project/sc\\_annotation/devel\\_ao/models/crossbatch\\_covid\\_flu & rank\\\\\n",
       "\t module & load & miniconda; & conda & init & bash; & source & activate & r4.2; & Rscript & /home/ah2426/tsang\\_project/sc\\_annotation/devel\\_ao/main.R & /home/ah2426/tsang\\_project/sc\\_annotation/data/covid\\_flu.cite.Batch2.dsb.RDS & /home/ah2426/tsang\\_project/sc\\_annotation/data/covid\\_flu.cite.Batch1.dsb.RDS & /home/ah2426/tsang\\_project/sc\\_annotation/devel\\_ao/models/crossbatch\\_covid\\_flu & expr\\\\\n",
       "\t module & load & miniconda; & conda & init & bash; & source & activate & r4.2; & Rscript & /home/ah2426/tsang\\_project/sc\\_annotation/devel\\_ao/main.R & /home/ah2426/tsang\\_project/sc\\_annotation/data/covid\\_flu.cite.Batch2.dsb.RDS & /home/ah2426/tsang\\_project/sc\\_annotation/data/covid\\_flu.cite.Batch1.dsb.RDS & /home/ah2426/tsang\\_project/sc\\_annotation/devel\\_ao/models/crossbatch\\_covid\\_flu & rank\\\\\n",
       "\t module & load & miniconda; & conda & init & bash; & source & activate & r4.2; & Rscript & /home/ah2426/tsang\\_project/sc\\_annotation/devel\\_ao/main.R & /home/ah2426/tsang\\_project/sc\\_annotation/data/covid\\_flu.cite.Batch3.dsb.RDS & /home/ah2426/tsang\\_project/sc\\_annotation/data/covid\\_flu.cite.Batch1.dsb.RDS & /home/ah2426/tsang\\_project/sc\\_annotation/devel\\_ao/models/crossbatch\\_covid\\_flu & expr\\\\\n",
       "\t module & load & miniconda; & conda & init & bash; & source & activate & r4.2; & Rscript & /home/ah2426/tsang\\_project/sc\\_annotation/devel\\_ao/main.R & /home/ah2426/tsang\\_project/sc\\_annotation/data/covid\\_flu.cite.Batch3.dsb.RDS & /home/ah2426/tsang\\_project/sc\\_annotation/data/covid\\_flu.cite.Batch1.dsb.RDS & /home/ah2426/tsang\\_project/sc\\_annotation/devel\\_ao/models/crossbatch\\_covid\\_flu & rank\\\\\n",
       "\t module & load & miniconda; & conda & init & bash; & source & activate & r4.2; & Rscript & /home/ah2426/tsang\\_project/sc\\_annotation/devel\\_ao/main.R & /home/ah2426/tsang\\_project/sc\\_annotation/data/covid\\_flu.cite.Batch3.dsb.RDS & /home/ah2426/tsang\\_project/sc\\_annotation/data/covid\\_flu.cite.Batch2.dsb.RDS & /home/ah2426/tsang\\_project/sc\\_annotation/devel\\_ao/models/crossbatch\\_covid\\_flu & expr\\\\\n",
       "\t module & load & miniconda; & conda & init & bash; & source & activate & r4.2; & Rscript & /home/ah2426/tsang\\_project/sc\\_annotation/devel\\_ao/main.R & /home/ah2426/tsang\\_project/sc\\_annotation/data/covid\\_flu.cite.Batch3.dsb.RDS & /home/ah2426/tsang\\_project/sc\\_annotation/data/covid\\_flu.cite.Batch2.dsb.RDS & /home/ah2426/tsang\\_project/sc\\_annotation/devel\\_ao/models/crossbatch\\_covid\\_flu & rank\\\\\n",
       "\\end{tabular}\n"
      ],
      "text/markdown": [
       "\n",
       "A matrix: 12 × 15 of type chr\n",
       "\n",
       "| module | load | miniconda; | conda | init | bash; | source | activate | r4.2; | Rscript | /home/ah2426/tsang_project/sc_annotation/devel_ao/main.R | /home/ah2426/tsang_project/sc_annotation/data/covid_flu.cite.Batch1.dsb.RDS | /home/ah2426/tsang_project/sc_annotation/data/covid_flu.cite.Batch2.dsb.RDS | /home/ah2426/tsang_project/sc_annotation/devel_ao/models/crossbatch_covid_flu | expr |\n",
       "| module | load | miniconda; | conda | init | bash; | source | activate | r4.2; | Rscript | /home/ah2426/tsang_project/sc_annotation/devel_ao/main.R | /home/ah2426/tsang_project/sc_annotation/data/covid_flu.cite.Batch1.dsb.RDS | /home/ah2426/tsang_project/sc_annotation/data/covid_flu.cite.Batch2.dsb.RDS | /home/ah2426/tsang_project/sc_annotation/devel_ao/models/crossbatch_covid_flu | rank |\n",
       "| module | load | miniconda; | conda | init | bash; | source | activate | r4.2; | Rscript | /home/ah2426/tsang_project/sc_annotation/devel_ao/main.R | /home/ah2426/tsang_project/sc_annotation/data/covid_flu.cite.Batch1.dsb.RDS | /home/ah2426/tsang_project/sc_annotation/data/covid_flu.cite.Batch3.dsb.RDS | /home/ah2426/tsang_project/sc_annotation/devel_ao/models/crossbatch_covid_flu | expr |\n",
       "| module | load | miniconda; | conda | init | bash; | source | activate | r4.2; | Rscript | /home/ah2426/tsang_project/sc_annotation/devel_ao/main.R | /home/ah2426/tsang_project/sc_annotation/data/covid_flu.cite.Batch1.dsb.RDS | /home/ah2426/tsang_project/sc_annotation/data/covid_flu.cite.Batch3.dsb.RDS | /home/ah2426/tsang_project/sc_annotation/devel_ao/models/crossbatch_covid_flu | rank |\n",
       "| module | load | miniconda; | conda | init | bash; | source | activate | r4.2; | Rscript | /home/ah2426/tsang_project/sc_annotation/devel_ao/main.R | /home/ah2426/tsang_project/sc_annotation/data/covid_flu.cite.Batch2.dsb.RDS | /home/ah2426/tsang_project/sc_annotation/data/covid_flu.cite.Batch3.dsb.RDS | /home/ah2426/tsang_project/sc_annotation/devel_ao/models/crossbatch_covid_flu | expr |\n",
       "| module | load | miniconda; | conda | init | bash; | source | activate | r4.2; | Rscript | /home/ah2426/tsang_project/sc_annotation/devel_ao/main.R | /home/ah2426/tsang_project/sc_annotation/data/covid_flu.cite.Batch2.dsb.RDS | /home/ah2426/tsang_project/sc_annotation/data/covid_flu.cite.Batch3.dsb.RDS | /home/ah2426/tsang_project/sc_annotation/devel_ao/models/crossbatch_covid_flu | rank |\n",
       "| module | load | miniconda; | conda | init | bash; | source | activate | r4.2; | Rscript | /home/ah2426/tsang_project/sc_annotation/devel_ao/main.R | /home/ah2426/tsang_project/sc_annotation/data/covid_flu.cite.Batch2.dsb.RDS | /home/ah2426/tsang_project/sc_annotation/data/covid_flu.cite.Batch1.dsb.RDS | /home/ah2426/tsang_project/sc_annotation/devel_ao/models/crossbatch_covid_flu | expr |\n",
       "| module | load | miniconda; | conda | init | bash; | source | activate | r4.2; | Rscript | /home/ah2426/tsang_project/sc_annotation/devel_ao/main.R | /home/ah2426/tsang_project/sc_annotation/data/covid_flu.cite.Batch2.dsb.RDS | /home/ah2426/tsang_project/sc_annotation/data/covid_flu.cite.Batch1.dsb.RDS | /home/ah2426/tsang_project/sc_annotation/devel_ao/models/crossbatch_covid_flu | rank |\n",
       "| module | load | miniconda; | conda | init | bash; | source | activate | r4.2; | Rscript | /home/ah2426/tsang_project/sc_annotation/devel_ao/main.R | /home/ah2426/tsang_project/sc_annotation/data/covid_flu.cite.Batch3.dsb.RDS | /home/ah2426/tsang_project/sc_annotation/data/covid_flu.cite.Batch1.dsb.RDS | /home/ah2426/tsang_project/sc_annotation/devel_ao/models/crossbatch_covid_flu | expr |\n",
       "| module | load | miniconda; | conda | init | bash; | source | activate | r4.2; | Rscript | /home/ah2426/tsang_project/sc_annotation/devel_ao/main.R | /home/ah2426/tsang_project/sc_annotation/data/covid_flu.cite.Batch3.dsb.RDS | /home/ah2426/tsang_project/sc_annotation/data/covid_flu.cite.Batch1.dsb.RDS | /home/ah2426/tsang_project/sc_annotation/devel_ao/models/crossbatch_covid_flu | rank |\n",
       "| module | load | miniconda; | conda | init | bash; | source | activate | r4.2; | Rscript | /home/ah2426/tsang_project/sc_annotation/devel_ao/main.R | /home/ah2426/tsang_project/sc_annotation/data/covid_flu.cite.Batch3.dsb.RDS | /home/ah2426/tsang_project/sc_annotation/data/covid_flu.cite.Batch2.dsb.RDS | /home/ah2426/tsang_project/sc_annotation/devel_ao/models/crossbatch_covid_flu | expr |\n",
       "| module | load | miniconda; | conda | init | bash; | source | activate | r4.2; | Rscript | /home/ah2426/tsang_project/sc_annotation/devel_ao/main.R | /home/ah2426/tsang_project/sc_annotation/data/covid_flu.cite.Batch3.dsb.RDS | /home/ah2426/tsang_project/sc_annotation/data/covid_flu.cite.Batch2.dsb.RDS | /home/ah2426/tsang_project/sc_annotation/devel_ao/models/crossbatch_covid_flu | rank |\n",
       "\n"
      ],
      "text/plain": [
       "      [,1]   [,2] [,3]       [,4]  [,5] [,6]  [,7]   [,8]     [,9]  [,10]  \n",
       " [1,] module load miniconda; conda init bash; source activate r4.2; Rscript\n",
       " [2,] module load miniconda; conda init bash; source activate r4.2; Rscript\n",
       " [3,] module load miniconda; conda init bash; source activate r4.2; Rscript\n",
       " [4,] module load miniconda; conda init bash; source activate r4.2; Rscript\n",
       " [5,] module load miniconda; conda init bash; source activate r4.2; Rscript\n",
       " [6,] module load miniconda; conda init bash; source activate r4.2; Rscript\n",
       " [7,] module load miniconda; conda init bash; source activate r4.2; Rscript\n",
       " [8,] module load miniconda; conda init bash; source activate r4.2; Rscript\n",
       " [9,] module load miniconda; conda init bash; source activate r4.2; Rscript\n",
       "[10,] module load miniconda; conda init bash; source activate r4.2; Rscript\n",
       "[11,] module load miniconda; conda init bash; source activate r4.2; Rscript\n",
       "[12,] module load miniconda; conda init bash; source activate r4.2; Rscript\n",
       "      [,11]                                                   \n",
       " [1,] /home/ah2426/tsang_project/sc_annotation/devel_ao/main.R\n",
       " [2,] /home/ah2426/tsang_project/sc_annotation/devel_ao/main.R\n",
       " [3,] /home/ah2426/tsang_project/sc_annotation/devel_ao/main.R\n",
       " [4,] /home/ah2426/tsang_project/sc_annotation/devel_ao/main.R\n",
       " [5,] /home/ah2426/tsang_project/sc_annotation/devel_ao/main.R\n",
       " [6,] /home/ah2426/tsang_project/sc_annotation/devel_ao/main.R\n",
       " [7,] /home/ah2426/tsang_project/sc_annotation/devel_ao/main.R\n",
       " [8,] /home/ah2426/tsang_project/sc_annotation/devel_ao/main.R\n",
       " [9,] /home/ah2426/tsang_project/sc_annotation/devel_ao/main.R\n",
       "[10,] /home/ah2426/tsang_project/sc_annotation/devel_ao/main.R\n",
       "[11,] /home/ah2426/tsang_project/sc_annotation/devel_ao/main.R\n",
       "[12,] /home/ah2426/tsang_project/sc_annotation/devel_ao/main.R\n",
       "      [,12]                                                                      \n",
       " [1,] /home/ah2426/tsang_project/sc_annotation/data/covid_flu.cite.Batch1.dsb.RDS\n",
       " [2,] /home/ah2426/tsang_project/sc_annotation/data/covid_flu.cite.Batch1.dsb.RDS\n",
       " [3,] /home/ah2426/tsang_project/sc_annotation/data/covid_flu.cite.Batch1.dsb.RDS\n",
       " [4,] /home/ah2426/tsang_project/sc_annotation/data/covid_flu.cite.Batch1.dsb.RDS\n",
       " [5,] /home/ah2426/tsang_project/sc_annotation/data/covid_flu.cite.Batch2.dsb.RDS\n",
       " [6,] /home/ah2426/tsang_project/sc_annotation/data/covid_flu.cite.Batch2.dsb.RDS\n",
       " [7,] /home/ah2426/tsang_project/sc_annotation/data/covid_flu.cite.Batch2.dsb.RDS\n",
       " [8,] /home/ah2426/tsang_project/sc_annotation/data/covid_flu.cite.Batch2.dsb.RDS\n",
       " [9,] /home/ah2426/tsang_project/sc_annotation/data/covid_flu.cite.Batch3.dsb.RDS\n",
       "[10,] /home/ah2426/tsang_project/sc_annotation/data/covid_flu.cite.Batch3.dsb.RDS\n",
       "[11,] /home/ah2426/tsang_project/sc_annotation/data/covid_flu.cite.Batch3.dsb.RDS\n",
       "[12,] /home/ah2426/tsang_project/sc_annotation/data/covid_flu.cite.Batch3.dsb.RDS\n",
       "      [,13]                                                                      \n",
       " [1,] /home/ah2426/tsang_project/sc_annotation/data/covid_flu.cite.Batch2.dsb.RDS\n",
       " [2,] /home/ah2426/tsang_project/sc_annotation/data/covid_flu.cite.Batch2.dsb.RDS\n",
       " [3,] /home/ah2426/tsang_project/sc_annotation/data/covid_flu.cite.Batch3.dsb.RDS\n",
       " [4,] /home/ah2426/tsang_project/sc_annotation/data/covid_flu.cite.Batch3.dsb.RDS\n",
       " [5,] /home/ah2426/tsang_project/sc_annotation/data/covid_flu.cite.Batch3.dsb.RDS\n",
       " [6,] /home/ah2426/tsang_project/sc_annotation/data/covid_flu.cite.Batch3.dsb.RDS\n",
       " [7,] /home/ah2426/tsang_project/sc_annotation/data/covid_flu.cite.Batch1.dsb.RDS\n",
       " [8,] /home/ah2426/tsang_project/sc_annotation/data/covid_flu.cite.Batch1.dsb.RDS\n",
       " [9,] /home/ah2426/tsang_project/sc_annotation/data/covid_flu.cite.Batch1.dsb.RDS\n",
       "[10,] /home/ah2426/tsang_project/sc_annotation/data/covid_flu.cite.Batch1.dsb.RDS\n",
       "[11,] /home/ah2426/tsang_project/sc_annotation/data/covid_flu.cite.Batch2.dsb.RDS\n",
       "[12,] /home/ah2426/tsang_project/sc_annotation/data/covid_flu.cite.Batch2.dsb.RDS\n",
       "      [,14]                                                                        \n",
       " [1,] /home/ah2426/tsang_project/sc_annotation/devel_ao/models/crossbatch_covid_flu\n",
       " [2,] /home/ah2426/tsang_project/sc_annotation/devel_ao/models/crossbatch_covid_flu\n",
       " [3,] /home/ah2426/tsang_project/sc_annotation/devel_ao/models/crossbatch_covid_flu\n",
       " [4,] /home/ah2426/tsang_project/sc_annotation/devel_ao/models/crossbatch_covid_flu\n",
       " [5,] /home/ah2426/tsang_project/sc_annotation/devel_ao/models/crossbatch_covid_flu\n",
       " [6,] /home/ah2426/tsang_project/sc_annotation/devel_ao/models/crossbatch_covid_flu\n",
       " [7,] /home/ah2426/tsang_project/sc_annotation/devel_ao/models/crossbatch_covid_flu\n",
       " [8,] /home/ah2426/tsang_project/sc_annotation/devel_ao/models/crossbatch_covid_flu\n",
       " [9,] /home/ah2426/tsang_project/sc_annotation/devel_ao/models/crossbatch_covid_flu\n",
       "[10,] /home/ah2426/tsang_project/sc_annotation/devel_ao/models/crossbatch_covid_flu\n",
       "[11,] /home/ah2426/tsang_project/sc_annotation/devel_ao/models/crossbatch_covid_flu\n",
       "[12,] /home/ah2426/tsang_project/sc_annotation/devel_ao/models/crossbatch_covid_flu\n",
       "      [,15]\n",
       " [1,] expr \n",
       " [2,] rank \n",
       " [3,] expr \n",
       " [4,] rank \n",
       " [5,] expr \n",
       " [6,] rank \n",
       " [7,] expr \n",
       " [8,] rank \n",
       " [9,] expr \n",
       "[10,] rank \n",
       "[11,] expr \n",
       "[12,] rank "
      ]
     },
     "metadata": {},
     "output_type": "display_data"
    }
   ],
   "source": [
    "library(stringr)\n",
    "str_split(store, pattern = ' ', simplify = TRUE)"
   ]
  },
  {
   "cell_type": "code",
   "execution_count": 24,
   "id": "78f16615-8aec-4458-a337-47a90b5bb70f",
   "metadata": {},
   "outputs": [],
   "source": [
    "a = '/home/ah2426/tsang_project/sc_annotation/data/covid_flu.cite.Batch1.dsb.RDS'"
   ]
  },
  {
   "cell_type": "code",
   "execution_count": 25,
   "id": "aa4f1194-90c3-4482-b8a2-ca1b44ca65ff",
   "metadata": {},
   "outputs": [
    {
     "data": {
      "text/html": [
       "'/home/ah2426/tsang_project/sc_annotation/data/covid_flu.cite.Batch1.dsb.RDS'"
      ],
      "text/latex": [
       "'/home/ah2426/tsang\\_project/sc\\_annotation/data/covid\\_flu.cite.Batch1.dsb.RDS'"
      ],
      "text/markdown": [
       "'/home/ah2426/tsang_project/sc_annotation/data/covid_flu.cite.Batch1.dsb.RDS'"
      ],
      "text/plain": [
       "[1] \"/home/ah2426/tsang_project/sc_annotation/data/covid_flu.cite.Batch1.dsb.RDS\""
      ]
     },
     "metadata": {},
     "output_type": "display_data"
    }
   ],
   "source": [
    "a"
   ]
  },
  {
   "cell_type": "code",
   "execution_count": 26,
   "id": "043aec5a-2cfb-4e3c-8580-9f20abdf98a7",
   "metadata": {},
   "outputs": [
    {
     "data": {
      "text/html": [
       "<table class=\"dataframe\">\n",
       "<caption>A matrix: 1 × 7 of type chr</caption>\n",
       "<tbody>\n",
       "\t<tr><td></td><td>home</td><td>ah2426</td><td>tsang_project</td><td>sc_annotation</td><td>data</td><td>covid_flu.cite.Batch1.dsb.RDS</td></tr>\n",
       "</tbody>\n",
       "</table>\n"
      ],
      "text/latex": [
       "A matrix: 1 × 7 of type chr\n",
       "\\begin{tabular}{lllllll}\n",
       "\t  & home & ah2426 & tsang\\_project & sc\\_annotation & data & covid\\_flu.cite.Batch1.dsb.RDS\\\\\n",
       "\\end{tabular}\n"
      ],
      "text/markdown": [
       "\n",
       "A matrix: 1 × 7 of type chr\n",
       "\n",
       "| <!----> | home | ah2426 | tsang_project | sc_annotation | data | covid_flu.cite.Batch1.dsb.RDS |\n",
       "\n"
      ],
      "text/plain": [
       "     [,1] [,2] [,3]   [,4]          [,5]          [,6]\n",
       "[1,]      home ah2426 tsang_project sc_annotation data\n",
       "     [,7]                         \n",
       "[1,] covid_flu.cite.Batch1.dsb.RDS"
      ]
     },
     "metadata": {},
     "output_type": "display_data"
    }
   ],
   "source": [
    "str_split(a, pattern='/', simplify=TRUE)"
   ]
  },
  {
   "cell_type": "code",
   "execution_count": null,
   "id": "a70304c1-49e8-485d-bd8e-0cf7b8094fdb",
   "metadata": {},
   "outputs": [],
   "source": []
  }
 ],
 "metadata": {
  "kernelspec": {
   "display_name": "R",
   "language": "R",
   "name": "ir"
  },
  "language_info": {
   "codemirror_mode": "r",
   "file_extension": ".r",
   "mimetype": "text/x-r-source",
   "name": "R",
   "pygments_lexer": "r",
   "version": "4.2.3"
  }
 },
 "nbformat": 4,
 "nbformat_minor": 5
}
